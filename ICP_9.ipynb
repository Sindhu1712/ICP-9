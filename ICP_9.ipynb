{
 "cells": [
  {
   "cell_type": "code",
   "execution_count": 2,
   "metadata": {},
   "outputs": [
    {
     "name": "stdout",
     "output_type": "stream",
     "text": [
      "291/291 - 44s - loss: 0.8179 - accuracy: 0.6444 - 44s/epoch - 151ms/step\n",
      "144/144 - 4s - loss: 0.7465 - accuracy: 0.6726 - 4s/epoch - 31ms/step\n",
      "0.7465280294418335\n",
      "0.6725644469261169\n",
      "['loss', 'accuracy']\n"
     ]
    }
   ],
   "source": [
    "import pandas as pd # data processing, CSV file I/O (e.g. pd.read_csv)\n",
    "from keras.preprocessing.text import Tokenizer\n",
    "from tensorflow.keras.preprocessing.sequence import pad_sequences\n",
    "from keras.models import Sequential\n",
    "from keras.layers import Dense, Embedding, LSTM, SpatialDropout1D\n",
    "from matplotlib import pyplot\n",
    "from sklearn.model_selection import train_test_split\n",
    "from keras.utils.np_utils import to_categorical\n",
    "import re\n",
    "\n",
    "from sklearn.preprocessing import LabelEncoder\n",
    "\n",
    "data = pd.read_csv('Sentiment.csv')\n",
    "# Keeping only the neccessary columns\n",
    "data = data[['text','sentiment']]\n",
    "\n",
    "data['text'] = data['text'].apply(lambda x: x.lower())\n",
    "data['text'] = data['text'].apply((lambda x: re.sub('[^a-zA-z0-9\\s]', '', x)))\n",
    "\n",
    "for idx, row in data.iterrows():\n",
    "    row[0] = row[0].replace('rt', ' ')\n",
    "\n",
    "max_fatures = 2000\n",
    "tokenizer = Tokenizer(num_words=max_fatures, split=' ')\n",
    "tokenizer.fit_on_texts(data['text'].values)\n",
    "X = tokenizer.texts_to_sequences(data['text'].values)\n",
    "\n",
    "X = pad_sequences(X)\n",
    "\n",
    "embed_dim = 128\n",
    "lstm_out = 196\n",
    "def createmodel():\n",
    "    model = Sequential()\n",
    "    model.add(Embedding(max_fatures, embed_dim,input_length = X.shape[1]))\n",
    "    model.add(LSTM(lstm_out, dropout=0.2, recurrent_dropout=0.2))\n",
    "    model.add(Dense(3,activation='softmax'))\n",
    "    model.compile(loss = 'categorical_crossentropy', optimizer='adam',metrics = ['accuracy'])\n",
    "    return model\n",
    "# print(model.summary())\n",
    "\n",
    "labelencoder = LabelEncoder()\n",
    "integer_encoded = labelencoder.fit_transform(data['sentiment'])\n",
    "y = to_categorical(integer_encoded)\n",
    "X_train, X_test, Y_train, Y_test = train_test_split(X,y, test_size = 0.33, random_state = 42)\n",
    "\n",
    "batch_size = 32\n",
    "model = createmodel()\n",
    "model.fit(X_train, Y_train, epochs = 1, batch_size=batch_size, verbose = 2)\n",
    "score,acc = model.evaluate(X_test,Y_test,verbose=2,batch_size=batch_size)\n",
    "print(score)\n",
    "print(acc)\n",
    "print(model.metrics_names)"
   ]
  },
  {
   "cell_type": "code",
   "execution_count": 3,
   "metadata": {},
   "outputs": [],
   "source": [
    "model.save('sentiment_model.h5')"
   ]
  },
  {
   "cell_type": "code",
   "execution_count": 4,
   "metadata": {},
   "outputs": [
    {
     "name": "stdout",
     "output_type": "stream",
     "text": [
      "1/1 - 1s - 728ms/epoch - 728ms/step\n",
      "Predicted sentiment:  Negative\n",
      "Predicted probabilities:  [0.49771252 0.16007847 0.342209  ]\n"
     ]
    }
   ],
   "source": [
    "from keras.models import load_model\n",
    "import numpy as np\n",
    "\n",
    "loaded_model = load_model('sentiment_model.h5')\n",
    "\n",
    "new_text = [\"A lot of good things are happening. We are respected again throughout the world, and that's a great thing.@realDonaldTrump\"]\n",
    "new_text = tokenizer.texts_to_sequences(new_text)\n",
    "new_text = pad_sequences(new_text, maxlen=X.shape[1], dtype='int32', value=0)\n",
    "sentiment_prob = loaded_model.predict(new_text, batch_size=1, verbose=2)[0]\n",
    "\n",
    "sentiment_classes = ['Negative', 'Neutral', 'Positive']\n",
    "sentiment_pred = sentiment_classes[np.argmax(sentiment_prob)]\n",
    "\n",
    "print(\"Predicted sentiment: \", sentiment_pred)\n",
    "print(\"Predicted probabilities: \", sentiment_prob)"
   ]
  },
  {
   "cell_type": "code",
   "execution_count": null,
   "metadata": {},
   "outputs": [
    {
     "name": "stdout",
     "output_type": "stream",
     "text": [
      "Fitting 3 folds for each of 27 candidates, totalling 81 fits\n"
     ]
    },
    {
     "name": "stderr",
     "output_type": "stream",
     "text": [
      "C:\\Users\\Saini\\AppData\\Local\\Temp\\ipykernel_4792\\1545330279.py:14: DeprecationWarning: KerasClassifier is deprecated, use Sci-Keras (https://github.com/adriangb/scikeras) instead. See https://www.adriangb.com/scikeras/stable/migration.html for help migrating.\n",
      "  model = KerasClassifier(build_fn=create_model, verbose=2)\n",
      "C:\\Users\\Saini\\AppData\\Roaming\\Python\\Python39\\site-packages\\keras\\optimizers\\legacy\\adam.py:117: UserWarning: The `lr` argument is deprecated, use `learning_rate` instead.\n",
      "  super().__init__(name, **kwargs)\n"
     ]
    },
    {
     "name": "stdout",
     "output_type": "stream",
     "text": [
      "194/194 - 16s - loss: 0.8528 - accuracy: 0.6302 - 16s/epoch - 82ms/step\n",
      "97/97 - 2s - loss: 0.7606 - accuracy: 0.6682 - 2s/epoch - 21ms/step\n",
      "[CV] END batch_size=32, dropout=0.1, epochs=1, learning_rate=0.001, units=64; total time=  18.6s\n"
     ]
    },
    {
     "name": "stderr",
     "output_type": "stream",
     "text": [
      "C:\\Users\\Saini\\AppData\\Roaming\\Python\\Python39\\site-packages\\keras\\optimizers\\legacy\\adam.py:117: UserWarning: The `lr` argument is deprecated, use `learning_rate` instead.\n",
      "  super().__init__(name, **kwargs)\n"
     ]
    },
    {
     "name": "stdout",
     "output_type": "stream",
     "text": [
      "194/194 - 16s - loss: 0.8435 - accuracy: 0.6302 - 16s/epoch - 81ms/step\n",
      "97/97 - 2s - loss: 0.7815 - accuracy: 0.6779 - 2s/epoch - 20ms/step\n",
      "[CV] END batch_size=32, dropout=0.1, epochs=1, learning_rate=0.001, units=64; total time=  18.8s\n"
     ]
    },
    {
     "name": "stderr",
     "output_type": "stream",
     "text": [
      "C:\\Users\\Saini\\AppData\\Roaming\\Python\\Python39\\site-packages\\keras\\optimizers\\legacy\\adam.py:117: UserWarning: The `lr` argument is deprecated, use `learning_rate` instead.\n",
      "  super().__init__(name, **kwargs)\n"
     ]
    },
    {
     "name": "stdout",
     "output_type": "stream",
     "text": [
      "194/194 - 15s - loss: 0.8548 - accuracy: 0.6281 - 15s/epoch - 78ms/step\n",
      "97/97 - 2s - loss: 0.7832 - accuracy: 0.6713 - 2s/epoch - 19ms/step\n",
      "[CV] END batch_size=32, dropout=0.1, epochs=1, learning_rate=0.001, units=64; total time=  17.4s\n"
     ]
    },
    {
     "name": "stderr",
     "output_type": "stream",
     "text": [
      "C:\\Users\\Saini\\AppData\\Roaming\\Python\\Python39\\site-packages\\keras\\optimizers\\legacy\\adam.py:117: UserWarning: The `lr` argument is deprecated, use `learning_rate` instead.\n",
      "  super().__init__(name, **kwargs)\n"
     ]
    },
    {
     "name": "stdout",
     "output_type": "stream",
     "text": [
      "194/194 - 21s - loss: 0.8500 - accuracy: 0.6349 - 21s/epoch - 108ms/step\n",
      "97/97 - 2s - loss: 0.7643 - accuracy: 0.6675 - 2s/epoch - 22ms/step\n",
      "[CV] END batch_size=32, dropout=0.1, epochs=1, learning_rate=0.001, units=128; total time=  23.7s\n"
     ]
    },
    {
     "name": "stderr",
     "output_type": "stream",
     "text": [
      "C:\\Users\\Saini\\AppData\\Roaming\\Python\\Python39\\site-packages\\keras\\optimizers\\legacy\\adam.py:117: UserWarning: The `lr` argument is deprecated, use `learning_rate` instead.\n",
      "  super().__init__(name, **kwargs)\n"
     ]
    },
    {
     "name": "stdout",
     "output_type": "stream",
     "text": [
      "194/194 - 21s - loss: 0.8436 - accuracy: 0.6413 - 21s/epoch - 108ms/step\n",
      "97/97 - 2s - loss: 0.7686 - accuracy: 0.6640 - 2s/epoch - 25ms/step\n",
      "[CV] END batch_size=32, dropout=0.1, epochs=1, learning_rate=0.001, units=128; total time=  23.9s\n"
     ]
    },
    {
     "name": "stderr",
     "output_type": "stream",
     "text": [
      "C:\\Users\\Saini\\AppData\\Roaming\\Python\\Python39\\site-packages\\keras\\optimizers\\legacy\\adam.py:117: UserWarning: The `lr` argument is deprecated, use `learning_rate` instead.\n",
      "  super().__init__(name, **kwargs)\n"
     ]
    },
    {
     "name": "stdout",
     "output_type": "stream",
     "text": [
      "194/194 - 21s - loss: 0.8464 - accuracy: 0.6375 - 21s/epoch - 108ms/step\n",
      "97/97 - 2s - loss: 0.7730 - accuracy: 0.6748 - 2s/epoch - 23ms/step\n",
      "[CV] END batch_size=32, dropout=0.1, epochs=1, learning_rate=0.001, units=128; total time=  23.8s\n"
     ]
    },
    {
     "name": "stderr",
     "output_type": "stream",
     "text": [
      "C:\\Users\\Saini\\AppData\\Roaming\\Python\\Python39\\site-packages\\keras\\optimizers\\legacy\\adam.py:117: UserWarning: The `lr` argument is deprecated, use `learning_rate` instead.\n",
      "  super().__init__(name, **kwargs)\n"
     ]
    },
    {
     "name": "stdout",
     "output_type": "stream",
     "text": [
      "194/194 - 32s - loss: 0.8639 - accuracy: 0.6287 - 32s/epoch - 167ms/step\n",
      "97/97 - 3s - loss: 0.7784 - accuracy: 0.6682 - 3s/epoch - 32ms/step\n",
      "[CV] END batch_size=32, dropout=0.1, epochs=1, learning_rate=0.001, units=196; total time=  36.1s\n"
     ]
    },
    {
     "name": "stderr",
     "output_type": "stream",
     "text": [
      "C:\\Users\\Saini\\AppData\\Roaming\\Python\\Python39\\site-packages\\keras\\optimizers\\legacy\\adam.py:117: UserWarning: The `lr` argument is deprecated, use `learning_rate` instead.\n",
      "  super().__init__(name, **kwargs)\n"
     ]
    },
    {
     "name": "stdout",
     "output_type": "stream",
     "text": [
      "194/194 - 35s - loss: 0.8520 - accuracy: 0.6334 - 35s/epoch - 178ms/step\n",
      "97/97 - 5s - loss: 0.7746 - accuracy: 0.6646 - 5s/epoch - 56ms/step\n",
      "[CV] END batch_size=32, dropout=0.1, epochs=1, learning_rate=0.001, units=196; total time=  40.6s\n"
     ]
    },
    {
     "name": "stderr",
     "output_type": "stream",
     "text": [
      "C:\\Users\\Saini\\AppData\\Roaming\\Python\\Python39\\site-packages\\keras\\optimizers\\legacy\\adam.py:117: UserWarning: The `lr` argument is deprecated, use `learning_rate` instead.\n",
      "  super().__init__(name, **kwargs)\n"
     ]
    },
    {
     "name": "stdout",
     "output_type": "stream",
     "text": [
      "194/194 - 30s - loss: 0.8518 - accuracy: 0.6317 - 30s/epoch - 157ms/step\n",
      "97/97 - 3s - loss: 0.7771 - accuracy: 0.6558 - 3s/epoch - 31ms/step\n",
      "[CV] END batch_size=32, dropout=0.1, epochs=1, learning_rate=0.001, units=196; total time=  34.0s\n"
     ]
    },
    {
     "name": "stderr",
     "output_type": "stream",
     "text": [
      "C:\\Users\\Saini\\AppData\\Roaming\\Python\\Python39\\site-packages\\keras\\optimizers\\legacy\\adam.py:117: UserWarning: The `lr` argument is deprecated, use `learning_rate` instead.\n",
      "  super().__init__(name, **kwargs)\n"
     ]
    },
    {
     "name": "stdout",
     "output_type": "stream",
     "text": [
      "194/194 - 16s - loss: 0.8360 - accuracy: 0.6404 - 16s/epoch - 84ms/step\n",
      "97/97 - 2s - loss: 0.7879 - accuracy: 0.6566 - 2s/epoch - 21ms/step\n",
      "[CV] END batch_size=32, dropout=0.1, epochs=1, learning_rate=0.01, units=64; total time=  18.7s\n"
     ]
    },
    {
     "name": "stderr",
     "output_type": "stream",
     "text": [
      "C:\\Users\\Saini\\AppData\\Roaming\\Python\\Python39\\site-packages\\keras\\optimizers\\legacy\\adam.py:117: UserWarning: The `lr` argument is deprecated, use `learning_rate` instead.\n",
      "  super().__init__(name, **kwargs)\n"
     ]
    }
   ],
   "source": [
    "from keras.wrappers.scikit_learn import KerasClassifier\n",
    "from sklearn.model_selection import GridSearchCV\n",
    "from keras.optimizers import Adam\n",
    "\n",
    "def create_model(units=196, dropout=0.2, learning_rate=0.001):\n",
    "    model = Sequential()\n",
    "    model.add(Embedding(max_fatures, embed_dim,input_length = X.shape[1]))\n",
    "    model.add(LSTM(units, dropout=dropout, recurrent_dropout=dropout))\n",
    "    model.add(Dense(3, activation='softmax'))\n",
    "    optimizer = Adam(lr=learning_rate)\n",
    "    model.compile(loss='categorical_crossentropy', optimizer=optimizer, metrics=['accuracy'])\n",
    "    return model\n",
    "\n",
    "model = KerasClassifier(build_fn=create_model, verbose=2)\n",
    "\n",
    "units = [64, 128, 196]\n",
    "dropout = [0.1, 0.2, 0.3]\n",
    "learning_rate = [0.001, 0.01, 0.1]\n",
    "epochs = [1]\n",
    "batch_size = [32]\n",
    "\n",
    "param_grid = dict(units=units, dropout=dropout, learning_rate=learning_rate, epochs=epochs, batch_size=batch_size)\n",
    "grid = GridSearchCV(estimator=model, param_grid=param_grid, cv=3, verbose=2)\n",
    "grid_result = grid.fit(X_train, Y_train)\n",
    "\n",
    "print(\"Best: %f using %s\" % (grid_result.best_score_, grid_result.best_params_))"
   ]
  },
  {
   "cell_type": "code",
   "execution_count": null,
   "metadata": {},
   "outputs": [],
   "source": []
  }
 ],
 "metadata": {
  "kernelspec": {
   "display_name": "Python 3 (ipykernel)",
   "language": "python",
   "name": "python3"
  },
  "language_info": {
   "codemirror_mode": {
    "name": "ipython",
    "version": 3
   },
   "file_extension": ".py",
   "mimetype": "text/x-python",
   "name": "python",
   "nbconvert_exporter": "python",
   "pygments_lexer": "ipython3",
   "version": "3.9.12"
  }
 },
 "nbformat": 4,
 "nbformat_minor": 2
}
